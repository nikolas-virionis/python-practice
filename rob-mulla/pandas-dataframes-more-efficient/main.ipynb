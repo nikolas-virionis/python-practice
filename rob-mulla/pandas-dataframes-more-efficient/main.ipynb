{
 "cells": [
  {
   "attachments": {},
   "cell_type": "markdown",
   "metadata": {},
   "source": [
    "# Efficient Memory use in Pandas"
   ]
  },
  {
   "cell_type": "code",
   "execution_count": 1,
   "metadata": {},
   "outputs": [],
   "source": [
    "import pandas as pd\n",
    "import numpy as np"
   ]
  },
  {
   "attachments": {},
   "cell_type": "markdown",
   "metadata": {},
   "source": [
    "## Create our Data"
   ]
  },
  {
   "cell_type": "code",
   "execution_count": 2,
   "metadata": {},
   "outputs": [],
   "source": [
    "def get_dataset(size):\n",
    "    df = pd.DataFrame()\n",
    "\n",
    "    df['position'] = np.random.choice(['left', 'middle', 'right'], size)\n",
    "    df['age'] = np.random.randint(1, 50, size)\n",
    "    df['team'] = np.random.choice(['red', 'blue', 'yellow', 'green'], size)\n",
    "    df['win'] = np.random.choice(['yes', 'no'], size)\n",
    "    df['prob'] = np.random.uniform(0, 1, size)\n",
    "    \n",
    "    return df"
   ]
  },
  {
   "cell_type": "code",
   "execution_count": null,
   "metadata": {},
   "outputs": [],
   "source": [
    "df = get_dataset(1_000_000)"
   ]
  },
  {
   "cell_type": "code",
   "execution_count": null,
   "metadata": {},
   "outputs": [],
   "source": [
    "df.info()"
   ]
  },
  {
   "cell_type": "code",
   "execution_count": null,
   "metadata": {},
   "outputs": [],
   "source": [
    "%timeit df.groupby(['team', 'position'])['age'].rank()\n",
    "%timeit df.groupby(['team', 'position'])['prob'].rank()"
   ]
  },
  {
   "cell_type": "code",
   "execution_count": null,
   "metadata": {},
   "outputs": [],
   "source": [
    "df['position'] = df['position'].astype('category')\n",
    "df['team'] = df['team'].astype('category')\n",
    "df['win'] = df['win'].map({'yes': True, 'no': False})"
   ]
  },
  {
   "cell_type": "code",
   "execution_count": null,
   "metadata": {},
   "outputs": [],
   "source": [
    "df.info()"
   ]
  },
  {
   "cell_type": "code",
   "execution_count": null,
   "metadata": {},
   "outputs": [],
   "source": [
    "%timeit df.groupby(['team', 'position'])['age'].rank()\n",
    "%timeit df.groupby(['team', 'position'])['prob'].rank()"
   ]
  },
  {
   "cell_type": "code",
   "execution_count": null,
   "metadata": {},
   "outputs": [],
   "source": [
    "df['age'].max()"
   ]
  },
  {
   "cell_type": "code",
   "execution_count": null,
   "metadata": {},
   "outputs": [],
   "source": [
    "df['age'] = df['age'].astype('int8')"
   ]
  },
  {
   "cell_type": "code",
   "execution_count": null,
   "metadata": {},
   "outputs": [],
   "source": [
    "df.info()"
   ]
  },
  {
   "cell_type": "code",
   "execution_count": null,
   "metadata": {},
   "outputs": [],
   "source": [
    "%timeit df.groupby(['team', 'position'])['age'].rank()\n",
    "%timeit df.groupby(['team', 'position'])['prob'].rank()"
   ]
  },
  {
   "cell_type": "code",
   "execution_count": null,
   "metadata": {},
   "outputs": [],
   "source": [
    "df['prob'] = df['prob'].astype('float32')"
   ]
  },
  {
   "cell_type": "code",
   "execution_count": null,
   "metadata": {},
   "outputs": [],
   "source": [
    "df.info()"
   ]
  },
  {
   "cell_type": "code",
   "execution_count": null,
   "metadata": {},
   "outputs": [],
   "source": [
    "%timeit df.groupby(['team', 'position'])['age'].rank()\n",
    "%timeit df.groupby(['team', 'position'])['prob'].rank()"
   ]
  },
  {
   "cell_type": "code",
   "execution_count": 3,
   "metadata": {},
   "outputs": [],
   "source": [
    "def set_dtypes(df: pd.DataFrame) -> pd.DataFrame:\n",
    "    df['position'] = df['position'].astype('category')\n",
    "    df['team'] = df['team'].astype('category')\n",
    "    df['win'] = df['win'].map({'yes': True, 'no': False})\n",
    "    df['age'] = df['age'].astype('int8')\n",
    "    df['prob'] = df['prob'].astype('float32')\n",
    "    \n",
    "    return df"
   ]
  },
  {
   "cell_type": "code",
   "execution_count": 4,
   "metadata": {},
   "outputs": [
    {
     "name": "stdout",
     "output_type": "stream",
     "text": [
      "801 ms ± 173 ms per loop (mean ± std. dev. of 7 runs, 1 loop each)\n",
      "950 ms ± 50.8 ms per loop (mean ± std. dev. of 7 runs, 1 loop each)\n",
      "1.19 s ± 163 ms per loop (mean ± std. dev. of 7 runs, 1 loop each)\n"
     ]
    }
   ],
   "source": [
    "df = get_dataset(1_000_000)\n",
    "%timeit df['age_rank'] = df.groupby(['team', 'position'])['age'].rank()\n",
    "%timeit df['prob_rank'] = df.groupby(['team', 'position'])['prob'].rank()\n",
    "%timeit df['win_prob_rank'] = df.groupby(['team', 'position', 'win'])['prob'].rank()"
   ]
  },
  {
   "cell_type": "code",
   "execution_count": 5,
   "metadata": {},
   "outputs": [
    {
     "name": "stdout",
     "output_type": "stream",
     "text": [
      "743 ms ± 154 ms per loop (mean ± std. dev. of 7 runs, 1 loop each)\n",
      "849 ms ± 263 ms per loop (mean ± std. dev. of 7 runs, 1 loop each)\n",
      "777 ms ± 55.5 ms per loop (mean ± std. dev. of 7 runs, 1 loop each)\n"
     ]
    }
   ],
   "source": [
    "df = get_dataset(1_000_000)\n",
    "df = set_dtypes(df)\n",
    "%timeit df['age_rank'] = df.groupby(['team', 'position'])['age'].rank()\n",
    "%timeit df['prob_rank'] = df.groupby(['team', 'position'])['prob'].rank()\n",
    "%timeit df['win_prob_rank'] = df.groupby(['team', 'position', 'win'])['prob'].rank()"
   ]
  },
  {
   "cell_type": "code",
   "execution_count": 6,
   "metadata": {},
   "outputs": [
    {
     "name": "stdout",
     "output_type": "stream",
     "text": [
      "9.29 s ± 1.71 s per loop (mean ± std. dev. of 7 runs, 1 loop each)\n",
      "8.81 s ± 1.85 s per loop (mean ± std. dev. of 7 runs, 1 loop each)\n",
      "9.16 s ± 1.03 s per loop (mean ± std. dev. of 7 runs, 1 loop each)\n"
     ]
    }
   ],
   "source": [
    "df = get_dataset(10_000_000)\n",
    "%timeit df['age_rank'] = df.groupby(['team', 'position'])['age'].rank()\n",
    "%timeit df['prob_rank'] = df.groupby(['team', 'position'])['prob'].rank()\n",
    "%timeit df['win_prob_rank'] = df.groupby(['team', 'position', 'win'])['prob'].rank()"
   ]
  },
  {
   "cell_type": "code",
   "execution_count": 7,
   "metadata": {},
   "outputs": [
    {
     "name": "stdout",
     "output_type": "stream",
     "text": [
      "2.55 s ± 212 ms per loop (mean ± std. dev. of 7 runs, 1 loop each)\n",
      "4.89 s ± 240 ms per loop (mean ± std. dev. of 7 runs, 1 loop each)\n",
      "9.27 s ± 3.03 s per loop (mean ± std. dev. of 7 runs, 1 loop each)\n"
     ]
    }
   ],
   "source": [
    "df = get_dataset(10_000_000)\n",
    "df = set_dtypes(df)\n",
    "%timeit df['age_rank'] = df.groupby(['team', 'position'])['age'].rank()\n",
    "%timeit df['prob_rank'] = df.groupby(['team', 'position'])['prob'].rank()\n",
    "%timeit df['win_prob_rank'] = df.groupby(['team', 'position', 'win'])['prob'].rank()"
   ]
  }
 ],
 "metadata": {
  "kernelspec": {
   "display_name": "Python 3",
   "language": "python",
   "name": "python3"
  },
  "language_info": {
   "codemirror_mode": {
    "name": "ipython",
    "version": 3
   },
   "file_extension": ".py",
   "mimetype": "text/x-python",
   "name": "python",
   "nbconvert_exporter": "python",
   "pygments_lexer": "ipython3",
   "version": "3.10.11"
  },
  "orig_nbformat": 4
 },
 "nbformat": 4,
 "nbformat_minor": 2
}
